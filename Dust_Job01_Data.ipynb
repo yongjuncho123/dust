{
  "nbformat": 4,
  "nbformat_minor": 0,
  "metadata": {
    "colab": {
      "provenance": [],
      "mount_file_id": "https://github.com/yongjuncho123/dust/blob/main/Dust_Job01_Data.ipynb",
      "authorship_tag": "ABX9TyOBc0igsNUj12cCNet2La0z",
      "include_colab_link": true
    },
    "kernelspec": {
      "name": "python3",
      "display_name": "Python 3"
    },
    "language_info": {
      "name": "python"
    }
  },
  "cells": [
    {
      "cell_type": "markdown",
      "metadata": {
        "id": "view-in-github",
        "colab_type": "text"
      },
      "source": [
        "<a href=\"https://colab.research.google.com/github/yongjuncho123/dust/blob/main/Dust_Job01_Data.ipynb\" target=\"_parent\"><img src=\"https://colab.research.google.com/assets/colab-badge.svg\" alt=\"Open In Colab\"/></a>"
      ]
    },
    {
      "cell_type": "code",
      "execution_count": 2,
      "metadata": {
        "id": "HkHpdCmS31Eu"
      },
      "outputs": [],
      "source": [
        "import numpy as np\n",
        "import pandas as pd\n",
        "import matplotlib.pyplot as plt\n",
        "import datetime\n",
        "from datetime import *\n",
        "import os"
      ]
    },
    {
      "cell_type": "code",
      "source": [
        "Gu = ['강남구', '강동구', '광진구', '송파구', '성동구', '용산구', '마포구', '서초구', '동작구', '영등포구', '강서구']\n",
        "name_abb = ['GN', 'GD', 'GJ', 'SP', 'SD', 'YS', 'MP', 'SCH', 'DJ', 'YDP', 'GS']"
      ],
      "metadata": {
        "id": "dcGRbmYA39uO"
      },
      "execution_count": 3,
      "outputs": []
    },
    {
      "cell_type": "code",
      "source": [
        "# 분기별로 나눠져 있으면 이걸로\n",
        "unpre_dust = pd.read_csv('DATA\\에어코리아 최종측정 대기질 데이터/2016/2016년 4분기.csv', encoding='cp949')\n",
        "## csv 파일 저장시 clean01 / 2016_()분기/2016_()_{} 로 이름 바꾸기\n",
        "for i in range(len(Gu)):\n",
        "    Gu_name = Gu[i]\n",
        "    Gu_abb = name_abb[i]\n",
        "    print(Gu_name, Gu_abb)\n",
        "    unpre_Gu = unpre_dust[unpre_dust['측정소명'].str.contains(Gu_name)]\n",
        "    unpre_Gu.to_csv('./DATA/clean01/2016_4분기/2016_4분기_{}.csv'.format(Gu_abb), index=False)\n",
        "    print(unpre_Gu)"
      ],
      "metadata": {
        "id": "kL-0Zqon39zx"
      },
      "execution_count": null,
      "outputs": []
    },
    {
      "cell_type": "code",
      "source": [
        "# 월별로 나눠져 있으면 이걸로\n",
        "unpre_dust = pd.read_excel('./DATA/에어코리아 최종측정 대기질 데이터/2020/2020년 1월.xlsx')\n",
        "\n",
        "for i in range(len(Gu)):\n",
        "    Gu_name = Gu[i]\n",
        "    Gu_abb = name_abb[i]\n",
        "    print(Gu_name, Gu_abb)\n",
        "    unpre_Gu = unpre_dust[unpre_dust['측정소명'].str.contains(Gu_name)]\n",
        "    unpre_Gu.to_csv('./DATA/clean01/2020_4분기/2020_4분기_12월/2020_12월_{}.csv'.format(Gu_abb), index=False)\n",
        "    print(unpre_Gu)"
      ],
      "metadata": {
        "id": "57gzLQDg394-"
      },
      "execution_count": null,
      "outputs": []
    },
    {
      "cell_type": "code",
      "source": [
        "# 연도별로 concat(axis = 0 => 행기준, 동일 column을 기준으로 위아래로 합쳐짐 / axis = 1 => 열기준, 옆으로 붙여짐)\n",
        "\n",
        "df1 = pd.read_csv('./DATA/clean01/2018_1분기/2018_1분기_YS.csv')\n",
        "df2 = pd.read_csv('./DATA/clean01/2018_2분기/2018_2분기_YS.csv')\n",
        "df3 = pd.read_csv('./DATA/clean01/2018_3분기/2018_3분기_YS.csv')\n",
        "df4 = pd.read_csv('./DATA/clean01/2018_4분기/2018_4분기_YS.csv')\n",
        "\n",
        "\n",
        "total_YS_2018 = pd.concat([df1, df2, df3, df4], axis = 0)\n",
        "print(total_YS_2018)\n",
        "\n",
        "total_YS_2018.to_csv('./DATA/Concat_By_Year/2018/2018년_용산구.csv', index= False)\n"
      ],
      "metadata": {
        "id": "f1qvatwo4PnB"
      },
      "execution_count": null,
      "outputs": []
    },
    {
      "cell_type": "code",
      "source": [
        "## 월별로 있는 CONCAT\n",
        "\n",
        "df1 = pd.read_csv('./DATA/clean01/2020_1분기/2020_1분기_1월/2020_1월_YS.csv')\n",
        "df2 = pd.read_csv('./DATA/clean01/2020_1분기/2020_1분기_2월/2020_2월_YS.csv')\n",
        "df3 = pd.read_csv('./DATA/clean01/2020_1분기/2020_1분기_3월/2020_3월_YS.csv')\n",
        "df4 = pd.read_csv('./DATA/clean01/2020_2분기/2020_2분기_4월/2020_4월_YS.csv')\n",
        "df5 = pd.read_csv('./DATA/clean01/2020_2분기/2020_2분기_5월/2020_5월_YS.csv')\n",
        "df6 = pd.read_csv('./DATA/clean01/2020_2분기/2020_2분기_6월/2020_6월_YS.csv')\n",
        "df7 = pd.read_csv('./DATA/clean01/2020_3분기/2020_3분기_7월/2020_7월_YS.csv')\n",
        "df8 = pd.read_csv('./DATA/clean01/2020_3분기/2020_3분기_8월/2020_8월_YS.csv')\n",
        "df9 = pd.read_csv('./DATA/clean01/2020_3분기/2020_3분기_9월/2020_9월_YS.csv')\n",
        "df10 = pd.read_csv('./DATA/clean01/2020_4분기/2020_4분기_10월/2020_10월_YS.csv')\n",
        "df11 = pd.read_csv('./DATA/clean01/2020_4분기/2020_4분기_11월/2020_11월_YS.csv')\n",
        "df12 = pd.read_csv('./DATA/clean01/2020_4분기/2020_4분기_12월/2020_12월_YS.csv')\n",
        "\n",
        "total_YS_2020 = pd.concat([df1, df2, df3, df4, df5, df6, df7, df8, df9, df10, df11, df12], axis = 0)\n",
        "print(total_YS_2020)"
      ],
      "metadata": {
        "id": "COJq17474Ppj"
      },
      "execution_count": null,
      "outputs": []
    },
    {
      "cell_type": "code",
      "source": [
        "## 16 - 20 통합\n",
        "\n",
        "for i in range(len(a)):\n",
        "    df1 = pd.read_csv('/content/drive/MyDrive/data/Project_2_dust_data/2016/2016{}.csv'.format(a[i]), index_col = 0)\n",
        "    df2 = pd.read_csv('/content/drive/MyDrive/data/Project_2_dust_data/2017/2017{}.csv'.format(a[i]), index_col = 0)\n",
        "    df3 = pd.read_csv('/content/drive/MyDrive/data/Project_2_dust_data/2018/2018{}.csv'.format(a[i]), index_col = 0)\n",
        "    df4 = pd.read_csv('/content/drive/MyDrive/data/Project_2_dust_data/2019/2019{}.csv'.format(a[i]), index_col = 0)\n",
        "    df5 = pd.read_csv('/content/drive/MyDrive/data/Project_2_dust_data/2020/2020{}.csv'.format(a[i]), index_col = 0)\n",
        "    total = pd.concat([df1, df2, df3, df4, df5], axis = 0)\n",
        "    total.to_csv('/content/drive/MyDrive/data/total{}'.format(a[i]), index = False)"
      ],
      "metadata": {
        "id": "2pBj5dytFQhL"
      },
      "execution_count": null,
      "outputs": []
    },
    {
      "cell_type": "code",
      "source": [
        "## Nan 값 확인\n",
        "for i in range(len(name_abb)):\n",
        "    want = pd.read_csv('/content/drive/MyDrive/data/total{}'.format(name_abb[i]))\n",
        "    print(\"ㅡㅡㅡ 구분선 ㅡㅡㅡ\")\n",
        "    print(Gu[i] + \"의 결과는 아래와 같습니다. \")\n",
        "    print(want.isnull().sum())"
      ],
      "metadata": {
        "id": "g5LMKIGcIg9g"
      },
      "execution_count": null,
      "outputs": []
    },
    {
      "cell_type": "code",
      "source": [
        "## 데이터 전처리(3시간 이동평균)\n",
        "for i in range(len(Gu)):\n",
        "    unpre_Gu = pd.read_csv('DATA/Concat_By_Year/2017/2017년_{}.csv'.format(Gu[i]))\n",
        "    Gu_name = Gu[i]\n",
        "    Gu_abb = name_abb[i]\n",
        "    print(Gu_name, Gu_abb)\n",
        "    pre_Gu = unpre_Gu[unpre_Gu['측정소명'].str.contains(Gu_name)]\n",
        "\n",
        "    while pre_Gu['PM10'].isna().sum() and pre_Gu['PM25'].isna().sum() != 0:\n",
        "        pre_Gu[['PM10', 'PM25']] = pre_Gu[['PM10', 'PM25']].fillna(pre_Gu[['PM10', 'PM25']].rolling(window = 3, min_periods=1).mean())\n",
        "        if pre_Gu['PM10'].isna().sum() and pre_Gu['PM25'].isna().sum() != 0:\n",
        "            pre_Gu[['PM10', 'PM25']] = pre_Gu[['PM10', 'PM25']].fillna(0)\n",
        "\n",
        "    pre_Gu.to_csv('./DATA/final_data//2027{}.csv'.format(Gu_abb), index=False)"
      ],
      "metadata": {
        "id": "SS0MP4j54Wn_"
      },
      "execution_count": null,
      "outputs": []
    }
  ]
}