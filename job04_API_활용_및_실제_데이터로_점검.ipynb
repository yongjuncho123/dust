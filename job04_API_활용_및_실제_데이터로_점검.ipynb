{
  "nbformat": 4,
  "nbformat_minor": 0,
  "metadata": {
    "colab": {
      "provenance": [],
      "mount_file_id": "1p6xowgaNApr_15LwMRoojJujhsz74_bG",
      "authorship_tag": "ABX9TyPXGN5PsArkINs7pVVtG6ao",
      "include_colab_link": true
    },
    "kernelspec": {
      "name": "python3",
      "display_name": "Python 3"
    },
    "language_info": {
      "name": "python"
    }
  },
  "cells": [
    {
      "cell_type": "markdown",
      "metadata": {
        "id": "view-in-github",
        "colab_type": "text"
      },
      "source": [
        "<a href=\"https://colab.research.google.com/github/yongjuncho123/dust/blob/main/job04_API_%ED%99%9C%EC%9A%A9_%EB%B0%8F_%EC%8B%A4%EC%A0%9C_%EB%8D%B0%EC%9D%B4%ED%84%B0%EB%A1%9C_%EC%A0%90%EA%B2%80.ipynb\" target=\"_parent\"><img src=\"https://colab.research.google.com/assets/colab-badge.svg\" alt=\"Open In Colab\"/></a>"
      ]
    },
    {
      "cell_type": "code",
      "source": [
        "!pip install xmltodict"
      ],
      "metadata": {
        "colab": {
          "base_uri": "https://localhost:8080/"
        },
        "id": "owQIqJyxug0R",
        "outputId": "7bd20799-af6c-4abf-a1d5-d38ec2fa0c1c"
      },
      "execution_count": null,
      "outputs": [
        {
          "output_type": "stream",
          "name": "stdout",
          "text": [
            "Collecting xmltodict\n",
            "  Downloading xmltodict-0.13.0-py2.py3-none-any.whl.metadata (7.7 kB)\n",
            "Downloading xmltodict-0.13.0-py2.py3-none-any.whl (10.0 kB)\n",
            "Installing collected packages: xmltodict\n",
            "Successfully installed xmltodict-0.13.0\n"
          ]
        }
      ]
    },
    {
      "cell_type": "code",
      "execution_count": null,
      "metadata": {
        "id": "kPR2zRPLX-DW"
      },
      "outputs": [],
      "source": [
        "import pandas as pd\n",
        "import requests\n",
        "import xmltodict\n",
        "import xml.etree.ElementTree as ET\n",
        "from tensorflow.keras.models import load_model\n",
        "import time\n",
        "from datetime import datetime\n",
        "import numpy as np\n",
        "from sklearn.preprocessing import MinMaxScaler"
      ]
    },
    {
      "cell_type": "code",
      "source": [
        "df = pd.read_csv('/content/drive/MyDrive/data/project02_dust/test_Data/서울시 대기질 자료 제공_2020-2021.csv', encoding = 'cp949')\n",
        "\n",
        "df = df[df['구분'] == '강동구'].loc[::-1].reset_index(drop = True)\n",
        "\n",
        "df"
      ],
      "metadata": {
        "colab": {
          "base_uri": "https://localhost:8080/",
          "height": 424
        },
        "id": "k1w8cwaFYKEH",
        "outputId": "da44e7bc-524a-4537-ae9d-8a1d6992976f"
      },
      "execution_count": null,
      "outputs": [
        {
          "output_type": "execute_result",
          "data": {
            "text/plain": [
              "                     일시   구분  미세먼지(PM10)  초미세먼지(PM25)\n",
              "0       2020-01-01 0:00  강동구        27.0         18.0\n",
              "1       2020-01-01 1:00  강동구        25.0         19.0\n",
              "2       2020-01-01 2:00  강동구        25.0         18.0\n",
              "3       2020-01-01 3:00  강동구        25.0         19.0\n",
              "4       2020-01-01 4:00  강동구        24.0         18.0\n",
              "...                 ...  ...         ...          ...\n",
              "17539  2021-12-31 19:00  강동구        25.0          8.0\n",
              "17540  2021-12-31 20:00  강동구        25.0          8.0\n",
              "17541  2021-12-31 21:00  강동구        28.0         10.0\n",
              "17542  2021-12-31 22:00  강동구        25.0          8.0\n",
              "17543  2021-12-31 23:00  강동구        25.0          7.0\n",
              "\n",
              "[17544 rows x 4 columns]"
            ],
            "text/html": [
              "\n",
              "  <div id=\"df-5da8e7f3-5dd9-48ab-806c-f8d88737c0e8\" class=\"colab-df-container\">\n",
              "    <div>\n",
              "<style scoped>\n",
              "    .dataframe tbody tr th:only-of-type {\n",
              "        vertical-align: middle;\n",
              "    }\n",
              "\n",
              "    .dataframe tbody tr th {\n",
              "        vertical-align: top;\n",
              "    }\n",
              "\n",
              "    .dataframe thead th {\n",
              "        text-align: right;\n",
              "    }\n",
              "</style>\n",
              "<table border=\"1\" class=\"dataframe\">\n",
              "  <thead>\n",
              "    <tr style=\"text-align: right;\">\n",
              "      <th></th>\n",
              "      <th>일시</th>\n",
              "      <th>구분</th>\n",
              "      <th>미세먼지(PM10)</th>\n",
              "      <th>초미세먼지(PM25)</th>\n",
              "    </tr>\n",
              "  </thead>\n",
              "  <tbody>\n",
              "    <tr>\n",
              "      <th>0</th>\n",
              "      <td>2020-01-01 0:00</td>\n",
              "      <td>강동구</td>\n",
              "      <td>27.0</td>\n",
              "      <td>18.0</td>\n",
              "    </tr>\n",
              "    <tr>\n",
              "      <th>1</th>\n",
              "      <td>2020-01-01 1:00</td>\n",
              "      <td>강동구</td>\n",
              "      <td>25.0</td>\n",
              "      <td>19.0</td>\n",
              "    </tr>\n",
              "    <tr>\n",
              "      <th>2</th>\n",
              "      <td>2020-01-01 2:00</td>\n",
              "      <td>강동구</td>\n",
              "      <td>25.0</td>\n",
              "      <td>18.0</td>\n",
              "    </tr>\n",
              "    <tr>\n",
              "      <th>3</th>\n",
              "      <td>2020-01-01 3:00</td>\n",
              "      <td>강동구</td>\n",
              "      <td>25.0</td>\n",
              "      <td>19.0</td>\n",
              "    </tr>\n",
              "    <tr>\n",
              "      <th>4</th>\n",
              "      <td>2020-01-01 4:00</td>\n",
              "      <td>강동구</td>\n",
              "      <td>24.0</td>\n",
              "      <td>18.0</td>\n",
              "    </tr>\n",
              "    <tr>\n",
              "      <th>...</th>\n",
              "      <td>...</td>\n",
              "      <td>...</td>\n",
              "      <td>...</td>\n",
              "      <td>...</td>\n",
              "    </tr>\n",
              "    <tr>\n",
              "      <th>17539</th>\n",
              "      <td>2021-12-31 19:00</td>\n",
              "      <td>강동구</td>\n",
              "      <td>25.0</td>\n",
              "      <td>8.0</td>\n",
              "    </tr>\n",
              "    <tr>\n",
              "      <th>17540</th>\n",
              "      <td>2021-12-31 20:00</td>\n",
              "      <td>강동구</td>\n",
              "      <td>25.0</td>\n",
              "      <td>8.0</td>\n",
              "    </tr>\n",
              "    <tr>\n",
              "      <th>17541</th>\n",
              "      <td>2021-12-31 21:00</td>\n",
              "      <td>강동구</td>\n",
              "      <td>28.0</td>\n",
              "      <td>10.0</td>\n",
              "    </tr>\n",
              "    <tr>\n",
              "      <th>17542</th>\n",
              "      <td>2021-12-31 22:00</td>\n",
              "      <td>강동구</td>\n",
              "      <td>25.0</td>\n",
              "      <td>8.0</td>\n",
              "    </tr>\n",
              "    <tr>\n",
              "      <th>17543</th>\n",
              "      <td>2021-12-31 23:00</td>\n",
              "      <td>강동구</td>\n",
              "      <td>25.0</td>\n",
              "      <td>7.0</td>\n",
              "    </tr>\n",
              "  </tbody>\n",
              "</table>\n",
              "<p>17544 rows × 4 columns</p>\n",
              "</div>\n",
              "    <div class=\"colab-df-buttons\">\n",
              "\n",
              "  <div class=\"colab-df-container\">\n",
              "    <button class=\"colab-df-convert\" onclick=\"convertToInteractive('df-5da8e7f3-5dd9-48ab-806c-f8d88737c0e8')\"\n",
              "            title=\"Convert this dataframe to an interactive table.\"\n",
              "            style=\"display:none;\">\n",
              "\n",
              "  <svg xmlns=\"http://www.w3.org/2000/svg\" height=\"24px\" viewBox=\"0 -960 960 960\">\n",
              "    <path d=\"M120-120v-720h720v720H120Zm60-500h600v-160H180v160Zm220 220h160v-160H400v160Zm0 220h160v-160H400v160ZM180-400h160v-160H180v160Zm440 0h160v-160H620v160ZM180-180h160v-160H180v160Zm440 0h160v-160H620v160Z\"/>\n",
              "  </svg>\n",
              "    </button>\n",
              "\n",
              "  <style>\n",
              "    .colab-df-container {\n",
              "      display:flex;\n",
              "      gap: 12px;\n",
              "    }\n",
              "\n",
              "    .colab-df-convert {\n",
              "      background-color: #E8F0FE;\n",
              "      border: none;\n",
              "      border-radius: 50%;\n",
              "      cursor: pointer;\n",
              "      display: none;\n",
              "      fill: #1967D2;\n",
              "      height: 32px;\n",
              "      padding: 0 0 0 0;\n",
              "      width: 32px;\n",
              "    }\n",
              "\n",
              "    .colab-df-convert:hover {\n",
              "      background-color: #E2EBFA;\n",
              "      box-shadow: 0px 1px 2px rgba(60, 64, 67, 0.3), 0px 1px 3px 1px rgba(60, 64, 67, 0.15);\n",
              "      fill: #174EA6;\n",
              "    }\n",
              "\n",
              "    .colab-df-buttons div {\n",
              "      margin-bottom: 4px;\n",
              "    }\n",
              "\n",
              "    [theme=dark] .colab-df-convert {\n",
              "      background-color: #3B4455;\n",
              "      fill: #D2E3FC;\n",
              "    }\n",
              "\n",
              "    [theme=dark] .colab-df-convert:hover {\n",
              "      background-color: #434B5C;\n",
              "      box-shadow: 0px 1px 3px 1px rgba(0, 0, 0, 0.15);\n",
              "      filter: drop-shadow(0px 1px 2px rgba(0, 0, 0, 0.3));\n",
              "      fill: #FFFFFF;\n",
              "    }\n",
              "  </style>\n",
              "\n",
              "    <script>\n",
              "      const buttonEl =\n",
              "        document.querySelector('#df-5da8e7f3-5dd9-48ab-806c-f8d88737c0e8 button.colab-df-convert');\n",
              "      buttonEl.style.display =\n",
              "        google.colab.kernel.accessAllowed ? 'block' : 'none';\n",
              "\n",
              "      async function convertToInteractive(key) {\n",
              "        const element = document.querySelector('#df-5da8e7f3-5dd9-48ab-806c-f8d88737c0e8');\n",
              "        const dataTable =\n",
              "          await google.colab.kernel.invokeFunction('convertToInteractive',\n",
              "                                                    [key], {});\n",
              "        if (!dataTable) return;\n",
              "\n",
              "        const docLinkHtml = 'Like what you see? Visit the ' +\n",
              "          '<a target=\"_blank\" href=https://colab.research.google.com/notebooks/data_table.ipynb>data table notebook</a>'\n",
              "          + ' to learn more about interactive tables.';\n",
              "        element.innerHTML = '';\n",
              "        dataTable['output_type'] = 'display_data';\n",
              "        await google.colab.output.renderOutput(dataTable, element);\n",
              "        const docLink = document.createElement('div');\n",
              "        docLink.innerHTML = docLinkHtml;\n",
              "        element.appendChild(docLink);\n",
              "      }\n",
              "    </script>\n",
              "  </div>\n",
              "\n",
              "\n",
              "<div id=\"df-cb8fec1e-bb36-4a19-a9d8-c63f52a7eeb6\">\n",
              "  <button class=\"colab-df-quickchart\" onclick=\"quickchart('df-cb8fec1e-bb36-4a19-a9d8-c63f52a7eeb6')\"\n",
              "            title=\"Suggest charts\"\n",
              "            style=\"display:none;\">\n",
              "\n",
              "<svg xmlns=\"http://www.w3.org/2000/svg\" height=\"24px\"viewBox=\"0 0 24 24\"\n",
              "     width=\"24px\">\n",
              "    <g>\n",
              "        <path d=\"M19 3H5c-1.1 0-2 .9-2 2v14c0 1.1.9 2 2 2h14c1.1 0 2-.9 2-2V5c0-1.1-.9-2-2-2zM9 17H7v-7h2v7zm4 0h-2V7h2v10zm4 0h-2v-4h2v4z\"/>\n",
              "    </g>\n",
              "</svg>\n",
              "  </button>\n",
              "\n",
              "<style>\n",
              "  .colab-df-quickchart {\n",
              "      --bg-color: #E8F0FE;\n",
              "      --fill-color: #1967D2;\n",
              "      --hover-bg-color: #E2EBFA;\n",
              "      --hover-fill-color: #174EA6;\n",
              "      --disabled-fill-color: #AAA;\n",
              "      --disabled-bg-color: #DDD;\n",
              "  }\n",
              "\n",
              "  [theme=dark] .colab-df-quickchart {\n",
              "      --bg-color: #3B4455;\n",
              "      --fill-color: #D2E3FC;\n",
              "      --hover-bg-color: #434B5C;\n",
              "      --hover-fill-color: #FFFFFF;\n",
              "      --disabled-bg-color: #3B4455;\n",
              "      --disabled-fill-color: #666;\n",
              "  }\n",
              "\n",
              "  .colab-df-quickchart {\n",
              "    background-color: var(--bg-color);\n",
              "    border: none;\n",
              "    border-radius: 50%;\n",
              "    cursor: pointer;\n",
              "    display: none;\n",
              "    fill: var(--fill-color);\n",
              "    height: 32px;\n",
              "    padding: 0;\n",
              "    width: 32px;\n",
              "  }\n",
              "\n",
              "  .colab-df-quickchart:hover {\n",
              "    background-color: var(--hover-bg-color);\n",
              "    box-shadow: 0 1px 2px rgba(60, 64, 67, 0.3), 0 1px 3px 1px rgba(60, 64, 67, 0.15);\n",
              "    fill: var(--button-hover-fill-color);\n",
              "  }\n",
              "\n",
              "  .colab-df-quickchart-complete:disabled,\n",
              "  .colab-df-quickchart-complete:disabled:hover {\n",
              "    background-color: var(--disabled-bg-color);\n",
              "    fill: var(--disabled-fill-color);\n",
              "    box-shadow: none;\n",
              "  }\n",
              "\n",
              "  .colab-df-spinner {\n",
              "    border: 2px solid var(--fill-color);\n",
              "    border-color: transparent;\n",
              "    border-bottom-color: var(--fill-color);\n",
              "    animation:\n",
              "      spin 1s steps(1) infinite;\n",
              "  }\n",
              "\n",
              "  @keyframes spin {\n",
              "    0% {\n",
              "      border-color: transparent;\n",
              "      border-bottom-color: var(--fill-color);\n",
              "      border-left-color: var(--fill-color);\n",
              "    }\n",
              "    20% {\n",
              "      border-color: transparent;\n",
              "      border-left-color: var(--fill-color);\n",
              "      border-top-color: var(--fill-color);\n",
              "    }\n",
              "    30% {\n",
              "      border-color: transparent;\n",
              "      border-left-color: var(--fill-color);\n",
              "      border-top-color: var(--fill-color);\n",
              "      border-right-color: var(--fill-color);\n",
              "    }\n",
              "    40% {\n",
              "      border-color: transparent;\n",
              "      border-right-color: var(--fill-color);\n",
              "      border-top-color: var(--fill-color);\n",
              "    }\n",
              "    60% {\n",
              "      border-color: transparent;\n",
              "      border-right-color: var(--fill-color);\n",
              "    }\n",
              "    80% {\n",
              "      border-color: transparent;\n",
              "      border-right-color: var(--fill-color);\n",
              "      border-bottom-color: var(--fill-color);\n",
              "    }\n",
              "    90% {\n",
              "      border-color: transparent;\n",
              "      border-bottom-color: var(--fill-color);\n",
              "    }\n",
              "  }\n",
              "</style>\n",
              "\n",
              "  <script>\n",
              "    async function quickchart(key) {\n",
              "      const quickchartButtonEl =\n",
              "        document.querySelector('#' + key + ' button');\n",
              "      quickchartButtonEl.disabled = true;  // To prevent multiple clicks.\n",
              "      quickchartButtonEl.classList.add('colab-df-spinner');\n",
              "      try {\n",
              "        const charts = await google.colab.kernel.invokeFunction(\n",
              "            'suggestCharts', [key], {});\n",
              "      } catch (error) {\n",
              "        console.error('Error during call to suggestCharts:', error);\n",
              "      }\n",
              "      quickchartButtonEl.classList.remove('colab-df-spinner');\n",
              "      quickchartButtonEl.classList.add('colab-df-quickchart-complete');\n",
              "    }\n",
              "    (() => {\n",
              "      let quickchartButtonEl =\n",
              "        document.querySelector('#df-cb8fec1e-bb36-4a19-a9d8-c63f52a7eeb6 button');\n",
              "      quickchartButtonEl.style.display =\n",
              "        google.colab.kernel.accessAllowed ? 'block' : 'none';\n",
              "    })();\n",
              "  </script>\n",
              "</div>\n",
              "\n",
              "  <div id=\"id_8fbde8eb-367e-4298-9dd9-921516078c5b\">\n",
              "    <style>\n",
              "      .colab-df-generate {\n",
              "        background-color: #E8F0FE;\n",
              "        border: none;\n",
              "        border-radius: 50%;\n",
              "        cursor: pointer;\n",
              "        display: none;\n",
              "        fill: #1967D2;\n",
              "        height: 32px;\n",
              "        padding: 0 0 0 0;\n",
              "        width: 32px;\n",
              "      }\n",
              "\n",
              "      .colab-df-generate:hover {\n",
              "        background-color: #E2EBFA;\n",
              "        box-shadow: 0px 1px 2px rgba(60, 64, 67, 0.3), 0px 1px 3px 1px rgba(60, 64, 67, 0.15);\n",
              "        fill: #174EA6;\n",
              "      }\n",
              "\n",
              "      [theme=dark] .colab-df-generate {\n",
              "        background-color: #3B4455;\n",
              "        fill: #D2E3FC;\n",
              "      }\n",
              "\n",
              "      [theme=dark] .colab-df-generate:hover {\n",
              "        background-color: #434B5C;\n",
              "        box-shadow: 0px 1px 3px 1px rgba(0, 0, 0, 0.15);\n",
              "        filter: drop-shadow(0px 1px 2px rgba(0, 0, 0, 0.3));\n",
              "        fill: #FFFFFF;\n",
              "      }\n",
              "    </style>\n",
              "    <button class=\"colab-df-generate\" onclick=\"generateWithVariable('df')\"\n",
              "            title=\"Generate code using this dataframe.\"\n",
              "            style=\"display:none;\">\n",
              "\n",
              "  <svg xmlns=\"http://www.w3.org/2000/svg\" height=\"24px\"viewBox=\"0 0 24 24\"\n",
              "       width=\"24px\">\n",
              "    <path d=\"M7,19H8.4L18.45,9,17,7.55,7,17.6ZM5,21V16.75L18.45,3.32a2,2,0,0,1,2.83,0l1.4,1.43a1.91,1.91,0,0,1,.58,1.4,1.91,1.91,0,0,1-.58,1.4L9.25,21ZM18.45,9,17,7.55Zm-12,3A5.31,5.31,0,0,0,4.9,8.1,5.31,5.31,0,0,0,1,6.5,5.31,5.31,0,0,0,4.9,4.9,5.31,5.31,0,0,0,6.5,1,5.31,5.31,0,0,0,8.1,4.9,5.31,5.31,0,0,0,12,6.5,5.46,5.46,0,0,0,6.5,12Z\"/>\n",
              "  </svg>\n",
              "    </button>\n",
              "    <script>\n",
              "      (() => {\n",
              "      const buttonEl =\n",
              "        document.querySelector('#id_8fbde8eb-367e-4298-9dd9-921516078c5b button.colab-df-generate');\n",
              "      buttonEl.style.display =\n",
              "        google.colab.kernel.accessAllowed ? 'block' : 'none';\n",
              "\n",
              "      buttonEl.onclick = () => {\n",
              "        google.colab.notebook.generateWithVariable('df');\n",
              "      }\n",
              "      })();\n",
              "    </script>\n",
              "  </div>\n",
              "\n",
              "    </div>\n",
              "  </div>\n"
            ],
            "application/vnd.google.colaboratory.intrinsic+json": {
              "type": "dataframe",
              "variable_name": "df",
              "summary": "{\n  \"name\": \"df\",\n  \"rows\": 17544,\n  \"fields\": [\n    {\n      \"column\": \"\\uc77c\\uc2dc\",\n      \"properties\": {\n        \"dtype\": \"object\",\n        \"num_unique_values\": 17544,\n        \"samples\": [\n          \"2020-01-05 5:00\",\n          \"2021-07-27 6:00\",\n          \"2020-11-23 16:00\"\n        ],\n        \"semantic_type\": \"\",\n        \"description\": \"\"\n      }\n    },\n    {\n      \"column\": \"\\uad6c\\ubd84\",\n      \"properties\": {\n        \"dtype\": \"category\",\n        \"num_unique_values\": 1,\n        \"samples\": [\n          \"\\uac15\\ub3d9\\uad6c\"\n        ],\n        \"semantic_type\": \"\",\n        \"description\": \"\"\n      }\n    },\n    {\n      \"column\": \"\\ubbf8\\uc138\\uba3c\\uc9c0(PM10)\",\n      \"properties\": {\n        \"dtype\": \"number\",\n        \"std\": 37.15949147519728,\n        \"min\": 3.0,\n        \"max\": 909.0,\n        \"num_unique_values\": 245,\n        \"samples\": [\n          69.0\n        ],\n        \"semantic_type\": \"\",\n        \"description\": \"\"\n      }\n    },\n    {\n      \"column\": \"\\ucd08\\ubbf8\\uc138\\uba3c\\uc9c0(PM25)\",\n      \"properties\": {\n        \"dtype\": \"number\",\n        \"std\": 16.44867645613116,\n        \"min\": 1.0,\n        \"max\": 155.0,\n        \"num_unique_values\": 132,\n        \"samples\": [\n          4.0\n        ],\n        \"semantic_type\": \"\",\n        \"description\": \"\"\n      }\n    }\n  ]\n}"
            }
          },
          "metadata": {},
          "execution_count": 3
        }
      ]
    },
    {
      "cell_type": "code",
      "source": [
        "model_pm10 = load_model('/content/drive/MyDrive/data/project02_dust/LSTM 모델/LSTM_PM10.h5')\n",
        "model_pm25 = load_model('/content/drive/MyDrive/data/project02_dust/LSTM 모델/LSTM_PM25.h5')"
      ],
      "metadata": {
        "colab": {
          "base_uri": "https://localhost:8080/"
        },
        "id": "wyfXuxkYaODX",
        "outputId": "98433741-64d9-457e-f74f-9e35c11dda69"
      },
      "execution_count": null,
      "outputs": [
        {
          "output_type": "stream",
          "name": "stderr",
          "text": [
            "WARNING:absl:Compiled the loaded model, but the compiled metrics have yet to be built. `model.compile_metrics` will be empty until you train or evaluate the model.\n",
            "WARNING:absl:Compiled the loaded model, but the compiled metrics have yet to be built. `model.compile_metrics` will be empty until you train or evaluate the model.\n"
          ]
        }
      ]
    },
    {
      "cell_type": "code",
      "source": [
        "apikey = '61466878736a6f653130385974494949'\n",
        "region = '강동구'\n",
        "boarderline = '동남권'\n",
        "startnum = 1\n",
        "endnum = 1000"
      ],
      "metadata": {
        "id": "iGYNwFcpiTws"
      },
      "execution_count": null,
      "outputs": []
    },
    {
      "cell_type": "code",
      "source": [
        "url = f'http://openAPI.seoul.go.kr:8088/{apikey}/xml/RealtimeCityAir/{startnum}/{endnum}/{boarderline}/{region}'"
      ],
      "metadata": {
        "id": "pTZHP_3BOI6Q"
      },
      "execution_count": null,
      "outputs": []
    },
    {
      "cell_type": "code",
      "source": [
        "response = requests.get(url)\n",
        "print(response.content)"
      ],
      "metadata": {
        "colab": {
          "base_uri": "https://localhost:8080/"
        },
        "id": "W4G0h4BOZnoi",
        "outputId": "62b0c145-bc3e-43d0-f472-1388e6820a13"
      },
      "execution_count": null,
      "outputs": [
        {
          "output_type": "stream",
          "name": "stdout",
          "text": [
            "b'<?xml version=\"1.0\" encoding=\"UTF-8\"?>\\n<RealtimeCityAir>\\n<list_total_count>1</list_total_count>\\n<RESULT>\\n<CODE>INFO-000</CODE>\\n<MESSAGE>\\xec\\xa0\\x95\\xec\\x83\\x81 \\xec\\xb2\\x98\\xeb\\xa6\\xac\\xeb\\x90\\x98\\xec\\x97\\x88\\xec\\x8a\\xb5\\xeb\\x8b\\x88\\xeb\\x8b\\xa4</MESSAGE>\\n</RESULT>\\n<row>\\n<MSRDT>202409051800</MSRDT>\\n<MSRRGN_NM>\\xeb\\x8f\\x99\\xeb\\x82\\xa8\\xea\\xb6\\x8c</MSRRGN_NM>\\n<MSRSTE_NM>\\xea\\xb0\\x95\\xeb\\x8f\\x99\\xea\\xb5\\xac</MSRSTE_NM>\\n<PM10>15</PM10>\\n<PM25>12</PM25>\\n<O3>0.037</O3>\\n<NO2>0.014</NO2>\\n<CO>0.5</CO>\\n<SO2>0.002</SO2>\\n<IDEX_NM>\\xeb\\xb3\\xb4\\xed\\x86\\xb5</IDEX_NM>\\n<IDEX_MVL>56</IDEX_MVL>\\n<ARPLT_MAIN>O3</ARPLT_MAIN>\\n</row>\\n</RealtimeCityAir>\\n'\n"
          ]
        }
      ]
    },
    {
      "cell_type": "code",
      "source": [
        "print(response.status_code)"
      ],
      "metadata": {
        "colab": {
          "base_uri": "https://localhost:8080/"
        },
        "id": "G_MX3oWvrO6s",
        "outputId": "844525d4-6668-42fe-a276-d4c47b04219b"
      },
      "execution_count": null,
      "outputs": [
        {
          "output_type": "stream",
          "name": "stdout",
          "text": [
            "200\n"
          ]
        }
      ]
    },
    {
      "cell_type": "code",
      "source": [
        "import requests\n",
        "import xml.etree.ElementTree as ET\n",
        "import pandas as pd\n",
        "import os\n",
        "\n",
        "# API 요청 인자 설정\n",
        "KEY = 'yourkey'  # 인증키\n",
        "TYPE = 'xml'  # 요청 파일 타입\n",
        "SERVICE = 'ListAirQualityByDistrictService'  # 서비스명\n",
        "START_INDEX = '1'  # 요청 시작 위치\n",
        "END_INDEX = '5'  # 요청 종료 위치\n",
        "MSRADMCODE = '111274'  # 측정소 행정코드 (예: 강동구)\n",
        "\n",
        "# API 요청 URL\n",
        "url = f\"http://openAPI.seoul.go.kr:8088/{KEY}/{TYPE}/{SERVICE}/{START_INDEX}/{END_INDEX}/{MSRADMCODE}/\"\n",
        "\n",
        "# API 호출\n",
        "response = requests.get(url)\n",
        "\n",
        "# XML 데이터 파싱\n",
        "root = ET.fromstring(response.content)\n",
        "\n",
        "# 새로운 데이터 리스트 초기화\n",
        "new_data = []\n",
        "\n",
        "for item in root.findall('.//row'):\n",
        "    msrdate = item.find('MSRDATE').text if item.find('MSRDATE') is not None else None\n",
        "    station_name = item.find('MSRSTENAME').text if item.find('MSRSTENAME') is not None else None\n",
        "    pm10 = item.find('PM10').text if item.find('PM10') is not None else None\n",
        "    pm25 = item.find('PM25').text if item.find('PM25') is not None else None\n",
        "    new_data.append([msrdate, station_name, pm10, pm25])\n",
        "\n",
        "# 새로운 데이터를 DataFrame으로 변환\n",
        "new_df = pd.DataFrame(new_data, columns=['측정시간', '측정소명', 'PM10 농도', 'PM25 농도'])\n",
        "\n",
        "\n",
        "\n",
        "# 기존 데이터프레임이 존재하는지 확인\n",
        "if os.path.exists('/content/drive/MyDrive/data/project02_dust/24_data/air_quality.csv'):\n",
        "    # 기존 CSV 파일을 읽어옴\n",
        "    existing_df = pd.read_csv('/content/drive/MyDrive/data/project02_dust/24_data/air_quality.csv')\n",
        "\n",
        "    # 기존 데이터프레임에 새로운 데이터를 추가 (중복 제거)\n",
        "    combined_df = pd.concat([existing_df, new_df]).drop_duplicates().reset_index(drop=True)\n",
        "else:\n",
        "    # 기존 데이터가 없으면 새로운 데이터만 사용\n",
        "\n",
        "    combined_df = new_df\n",
        "\n",
        "# 마지막으로 들어온 데이터가 '점검중'이면 앞선 1시간 데이터로 계산\n",
        "if combined_df['PM10 농도'].iloc[-1] == '점검중':\n",
        "    combined_df['PM10 농도'].iloc[-1] = combined_df['PM10 농도'].iloc[-3]\n",
        "\n",
        "\n",
        "# 업데이트된 데이터프레임을 CSV 파일로 저장\n",
        "combined_df.to_csv('/content/drive/MyDrive/data/project02_dust/24_data/air_quality.csv', index = False, encoding = 'utf-8')\n",
        "\n",
        "# CSV 파일 읽기 및 출력\n",
        "df = pd.read_csv('/content/drive/MyDrive/data/project02_dust/24_data/air_quality.csv')\n",
        "print(df)\n"
      ],
      "metadata": {
        "colab": {
          "base_uri": "https://localhost:8080/"
        },
        "id": "aaIX5Ih0hnBK",
        "outputId": "166c94f2-bb40-4438-bff5-637383e4bc43"
      },
      "execution_count": null,
      "outputs": [
        {
          "output_type": "stream",
          "name": "stdout",
          "text": [
            "            측정시간 측정소명  PM10 농도  PM25 농도\n",
            "0   202409050600  강동구       18       13\n",
            "1   202409050700  강동구       22       12\n",
            "2   202409050800  강동구       21       10\n",
            "3   202409050900  강동구       24       13\n",
            "4   202409051000  강동구       34       16\n",
            "5   202409051200  강동구       35       13\n",
            "6   202409051300  강동구       20        9\n",
            "7   202409051400  강동구       17       11\n",
            "8   202409051500  강동구       17       17\n",
            "9   202409051600  강동구       14       14\n",
            "10  202409051800  강동구       15       12\n",
            "11  202409051900  강동구       27       16\n",
            "12  202409052000  강동구       26       17\n",
            "13  202409052100  강동구       30       14\n"
          ]
        }
      ]
    },
    {
      "cell_type": "code",
      "source": [
        "# PM10 데이터만 추출 (새로운 데이터로 업데이트된 df 사용)\n",
        "pm10_data = df['PM10 농도'].values\n",
        "\n",
        "# MinMaxScaler 객체 생성 및 적용\n",
        "scaler = MinMaxScaler()\n",
        "pm10_data_scaled = scaler.fit_transform(pm10_data.reshape(-1, 1))\n",
        "\n",
        "# 시퀀스를 생성하는 함수 (위의 코드와 동일)\n",
        "def sequenceCut(data, len_step):\n",
        "    sequence = []  # 시퀀스 덩어리 리스트\n",
        "    for i in range(len(data) - len_step):\n",
        "        sequence.append(data[i : i + len_step])  # 시퀀스 생성\n",
        "    return np.array(sequence)\n",
        "\n",
        "# 시퀀스 길이 설정\n",
        "len_step = 5\n",
        "\n",
        "# 시퀀스 생성 (스케일링된 데이터 사용)\n",
        "X = sequenceCut(pm10_data_scaled, len_step)"
      ],
      "metadata": {
        "id": "nB8UpdHHhtUZ"
      },
      "execution_count": null,
      "outputs": []
    },
    {
      "cell_type": "code",
      "source": [
        "# 모델 예측 (마지막 len_step 시퀀스를 입력으로 사용하여 1시간 앞의 PM10 농도 예측)\n",
        "y_pred_scaled = model_pm10.predict(X[-1].reshape(1, len_step, 1))  # LSTM에 맞게 reshape\n",
        "\n",
        "# 예측된 값을 원래 스케일로 복원\n",
        "y_pred_original = scaler.inverse_transform(y_pred_scaled)\n",
        "\n",
        "# 예측값 출력\n",
        "print(f\"예측된 PM10 농도: {y_pred_original[0][0]}\")"
      ],
      "metadata": {
        "colab": {
          "base_uri": "https://localhost:8080/"
        },
        "id": "7ikk5Vg_cbMQ",
        "outputId": "3095f6c2-3038-4d34-d6de-93de2a8b0c3c"
      },
      "execution_count": null,
      "outputs": [
        {
          "output_type": "stream",
          "name": "stdout",
          "text": [
            "\u001b[1m1/1\u001b[0m \u001b[32m━━━━━━━━━━━━━━━━━━━━\u001b[0m\u001b[37m\u001b[0m \u001b[1m0s\u001b[0m 24ms/step\n",
            "예측된 PM10 농도: 21.53917121887207\n"
          ]
        }
      ]
    },
    {
      "cell_type": "code",
      "source": [
        "print(y_pred_original[0][0])\n",
        "\n",
        "answer = pd.DataFrame({'pred' : [y_pred_original[0][0]]}).reset_index(drop = True)\n",
        "\n",
        "\n",
        "\n",
        "print(answer)\n",
        "answer.to_csv('/content/drive/MyDrive/data/project02_dust/24_data/pred.csv')\n",
        "\n",
        "# CSV 파일 경로\n",
        "csv_path = '/content/drive/MyDrive/data/project02_dust/24_data/pred.csv'\n",
        "\n",
        "# 기존 CSV 파일이 존재하는지 확인\n",
        "if os.path.exists(csv_path):\n",
        "    # 기존 CSV 파일을 읽어옴\n",
        "    existing_answer = pd.read_csv(csv_path, index_col=0)\n",
        "\n",
        "    # 기존 데이터프레임에 새로운 데이터를 추가 (중복 제거)\n",
        "    combined_answer = pd.concat([existing_answer, answer]).drop_duplicates().reset_index(drop = True)\n",
        "else:\n",
        "    # 기존 파일이 없으면 새로운 데이터만 사용\n",
        "    combined_answer = answer\n",
        "\n",
        "# CSV 파일에 덮어쓰기 하지 않도록 새로운 데이터를 병합한 결과를 저장\n",
        "combined_answer.to_csv(csv_path, index = False)  # 덮어쓰기 방지를 위해 'index=False' 사용"
      ],
      "metadata": {
        "colab": {
          "base_uri": "https://localhost:8080/"
        },
        "id": "tRLy3qEK4HAF",
        "outputId": "9fd2f6a1-0746-4210-a386-2ff28a3c8830"
      },
      "execution_count": null,
      "outputs": [
        {
          "output_type": "stream",
          "name": "stdout",
          "text": [
            "21.539171\n",
            "        pred\n",
            "0  21.539171\n"
          ]
        }
      ]
    },
    {
      "cell_type": "code",
      "source": [
        "answer['pred'].loc[0]\n"
      ],
      "metadata": {
        "colab": {
          "base_uri": "https://localhost:8080/"
        },
        "id": "wnsJ-JjhfwPt",
        "outputId": "ccfd0624-f33d-4e5b-8b64-3d72cd4d99ea"
      },
      "execution_count": null,
      "outputs": [
        {
          "output_type": "execute_result",
          "data": {
            "text/plain": [
              "17.160187"
            ]
          },
          "metadata": {},
          "execution_count": 131
        }
      ]
    },
    {
      "cell_type": "code",
      "source": [
        "a = answer['pred'].iloc[-1]\n",
        "\n",
        "if a < 31:\n",
        "    print(f'한 시간 뒤 예측 미세먼지 농도는 좋음입니다! 예측 농도: {a:.2f}' )\n",
        "elif a < 81:\n",
        "    print(f'한 시간 뒤 예측 미세먼지 농도는 보통입니다! 예측 농도: {a:.2f}' )\n",
        "elif a < 151:\n",
        "    print(f'한 시간 뒤 예측 미세먼지 농도는 나쁨입니다ㅠ 예측 농도: {a:.2f}' )\n",
        "else:\n",
        "    print(f'한 시간 뒤 예측 미세먼지 농도는 나쁨입니다ㅠㅠㅠ 예측 농도: {a:.2f}' )"
      ],
      "metadata": {
        "colab": {
          "base_uri": "https://localhost:8080/"
        },
        "id": "mK9tS0iKfdGL",
        "outputId": "1d0b4134-c7a7-426f-be37-3d1d3a5c0daa"
      },
      "execution_count": null,
      "outputs": [
        {
          "output_type": "stream",
          "name": "stdout",
          "text": [
            "한 시간 뒤 예측 미세먼지 농도는 좋음입니다! 예측 농도: 21.54\n"
          ]
        }
      ]
    }
  ]
}